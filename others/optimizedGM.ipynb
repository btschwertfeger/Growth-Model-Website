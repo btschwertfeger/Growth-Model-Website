{
 "cells": [
  {
   "cell_type": "code",
   "execution_count": 1,
   "metadata": {},
   "outputs": [],
   "source": [
    "from pathlib import Path\n",
    "import sys, os \n",
    "import numpy as np\n",
    "import pandas as pd\n",
    "import scipy as sci\n",
    "import xarray as xr"
   ]
  },
  {
   "cell_type": "markdown",
   "metadata": {},
   "source": [
    "# Settings"
   ]
  },
  {
   "cell_type": "code",
   "execution_count": 5,
   "metadata": {},
   "outputs": [],
   "source": [
    "# Create output directories if they do not exist\n",
    "\n",
    "\"\"\" Definitions of growth model constants from Butzin and Pörtner, 2016  \"\"\"\n",
    "\n",
    "A_R = 8.660        # Rate of uninhibited growth at reference temperature T_R (% d^-1 g^1/b)\n",
    "B_R = 0.3055       # Value of allometric exponent at reference temperature Tr\n",
    "THETA_A = 18145    # Arrhenius temperature (K) for uninhibited reaction kinetics = 17871,85°C\n",
    "THETA_B = 4258     # Arrhenius temperature (K) = 3984,85°C \n",
    "THETA_H =  25234   # Arrhenius temperature (K) for inhibited reaction kinetics = 24960,85°C\n",
    "T_R = 283          # Reference optimum temperature (K) = 9.85°C\n",
    "T_H = 286          # Temperature for inhibitive processes (K) = 12.85°C\n",
    "C_AVG =  0.291     # Independent of temperature and weight constant (% d^-1)\n",
    "\n",
    "input_files = xr.open_mfdataset('gm/input_data/*.nc', decode_times=False)\n",
    "new_time = pd.date_range('2000-01-01', '2005-01-01', freq='M')\n",
    "input_files = input_files.assign_coords({ 'time': new_time })\n",
    "\n",
    "Kelvin = 273.15       \n",
    "\n",
    "\"\"\" Definitions of kinetic functions \"\"\"\n",
    "equation2 = lambda temp: (A_R*np.exp(THETA_A/T_R - THETA_A/(temp + Kelvin)))/(np.exp(THETA_H/T_H - THETA_H/(temp + Kelvin)))\n",
    "\"\"\" Arrhenius equation \"\"\"\n",
    "equation3 = lambda temp: B_R*np.exp(THETA_B/T_R - THETA_B/(temp + Kelvin))\n",
    "\n",
    "experiment_name = 'SODA'\n",
    "region = 'CelticSea'\n",
    "\n",
    "out_dir = f'{Path.cwd()}/growth_model_output/{experiment_name}'\n",
    "if not os.path.exists(out_dir): os.makedirs(out_dir)\n",
    "\n",
    "# Specification of biological parameters  \n",
    "# Number of years in one life cycle of an individual \n",
    "generation = 2 \n",
    "# The year when the input temeperature dataset starts \n",
    "# Should be one year less than starting year in the dataset\n",
    "initial_year = 2000    \n",
    "# Number of years in the input temperature dataset\n",
    "years = range(2000, 2005)  \t \n",
    "\n",
    "# Define geographic boundaries (latitudes, longitudes)\n",
    "# Default coordinates: North Atlantic coordinates\n",
    "lat_coords, lon_coords = slice(47,52), slice(-12,-1)\n",
    "\n",
    "# Define depth_levels for your growth model output files\n",
    "depth_levels = slice(0, 600)   # 0-600 meters according to Atlantic cod distribution\n",
    "\n",
    "# Define latitudes that you will use to save your weight-at-age data to netcdf\n",
    "lat = np.array([47.25, 47.75, 48.25, 48.75, 49.25, 49.75, 50.25, 50.75, 51.25, 51.75], dtype='f')\n",
    "lon = np.array([\n",
    "    -11.75, -11.25, -10.75, -10.25, -9.75, -9.25, -8.75, -8.25, -7.75,\n",
    "    -7.25, -6.75, -6.25, -5.75, -5.25, -4.75, -4.25, -3.75, -3.25, -2.75, -2.25, -1.75,\n",
    "    -1.25\n",
    "], dtype='f')\n",
    "\n",
    "# Define depth that you will use to save your weight-at-age data to netcdf\n",
    "depths = np.array([\n",
    "     -0.,  10.,  20.,  30.,  40.,  50.,  60.,  70.,  80.,  90., 100., 115.,\n",
    "     135., 160., 190., 230., 280., 340., 410., 490., 580.\n",
    "], dtype='f')\n",
    "\n",
    "dt = 1\n",
    "\n",
    "# Define dimensionality of coords\n",
    "N_depths, N_lat, N_lon = len(depths), len(lat), len(lon)\n",
    "\n",
    "input_files = xr.open_mfdataset('gm/input_data/*.nc', decode_times=False)\n",
    "new_time = pd.date_range('2000-01-01', '2005-01-01', freq='M')\n",
    "input_files = input_files.assign_coords({'time': new_time})\n"
   ]
  },
  {
   "cell_type": "markdown",
   "metadata": {},
   "source": [
    "# Functions"
   ]
  },
  {
   "cell_type": "code",
   "execution_count": 7,
   "metadata": {},
   "outputs": [],
   "source": [
    "default_dim_labels: tuple = (\"depth_coord\", \"latitude\", \"longitude\")\n",
    "def save2netcdf(data, var_name:str, directory: str, year, age, dimension_labels: tuple=default_dim_labels):\n",
    "   \n",
    "    xr.DataArray(\n",
    "        data, \n",
    "        dims = dimension_labels,\n",
    "        coords = [('latitude', lat), ('longitude', lon)] if 'depth_coord' not in dimension_labels else [('depth_coord', depths), ('latitude', lat), ('longitude', lon)], \n",
    "        name = var_name\n",
    "    ).to_netcdf(f'{directory}_{year}_{var_name}_age-{age}.nc')"
   ]
  },
  {
   "cell_type": "markdown",
   "metadata": {},
   "source": [
    "# Computation"
   ]
  },
  {
   "cell_type": "code",
   "execution_count": 8,
   "metadata": {},
   "outputs": [
    {
     "name": "stderr",
     "output_type": "stream",
     "text": [
      "/var/folders/j1/k2clnjz530q64v44gw4srhpw0000gn/T/ipykernel_29197/2217209041.py:53: RuntimeWarning: All-NaN slice encountered\n",
      "  weight_max = np.nanmax(weight_3d, axis = 0)\n"
     ]
    }
   ],
   "source": [
    "results = [] # result by year\n",
    "last_year = initial_year + generation  \n",
    "while last_year < years[-1]:           \n",
    "    age, weight = 0, np.ones(shape=(N_depths, N_lat*N_lon), dtype='f')\n",
    "    growth_rates = np.zeros(shape=(N_depths, N_lat*N_lon), dtype='f')\n",
    "    age=0\n",
    "\n",
    "    for year in range(initial_year, last_year):\n",
    "        my_temp = input_files.thetao.sel(\n",
    "            time=f'{year}', \n",
    "            depth_coord = depth_levels, \n",
    "            latitude = lat_coords, \n",
    "            longitude = lon_coords\n",
    "        )            \n",
    "\n",
    "        # Partly vectorize 4D temperature fields  to accelerate the computations\n",
    "        temp_input_3d = my_temp.values.reshape(12, N_depths, N_lat*N_lon)             \n",
    "            \n",
    "        # Set NaN values\n",
    "        temp_input_3d[np.where(temp_input_3d[:,:,:] <= -998)] = np.nan     \n",
    "\n",
    "        # Initialize necessary variable fields\n",
    "        a = np.zeros(shape=(N_depths, N_lat*N_lon), dtype='f')\n",
    "        b = np.zeros(shape=(N_depths, N_lat*N_lon), dtype='f')\n",
    "\n",
    "        # mm0 is never used\n",
    "        if year == initial_year: mm0 = 2 \n",
    "        else: mm0 = 0\n",
    "\n",
    "        for mon in np.arange(0,12):\n",
    "            for dd in np.arange(0,30):\n",
    "                for ilev in np.arange(0, N_depths):  \n",
    "                    a[ilev, :] = equation2(temp_input_3d[mon, ilev, :])\n",
    "                    b[ilev, :] = equation3(temp_input_3d[mon, ilev, :]) * (-1.)\n",
    "                    growth_rates[ilev, :] = 0.01 * ( a[ilev, :] * weight[ilev, :] ** b[ilev, :] - C_AVG )  \n",
    "\n",
    "                    growth_rates[ilev, :] = np.where(growth_rates[ilev, :] < 0,0, growth_rates[ilev, :])\n",
    "                    weight[ilev, :] = weight[ilev, :] * (1. + dt * growth_rates[ilev, :])\n",
    "\n",
    "        new_year = int(year) + 1\n",
    "        \n",
    "        # Reshape data to original shape\n",
    "        a_3d = a.reshape(N_depths, N_lat, N_lon)\n",
    "        b_3d = b.reshape(N_depths, N_lat, N_lon)\n",
    "\n",
    "        growth_rates_3d = growth_rates.reshape(N_depths, N_lat, N_lon)\n",
    "\n",
    "        # # 3D field with asymptotic weight\n",
    "        weight_3d = 0.001 * weight.reshape((N_depths, N_lat, N_lon)) \n",
    "        \n",
    "        # # Calculate maximum asymptotic weight at a given location \n",
    "        # # (\"W*\" in Butzin and Pörtner (2016)) \n",
    "        weight_max = np.nanmax(weight_3d, axis = 0)\n",
    "\n",
    "        # optional\n",
    "        # results.append({\n",
    "        #     'weight_3d': weight_3d,\n",
    "        #     'weight_max': weight_max,\n",
    "        #     'a_3d': a_3d,\n",
    "        #     'B_3d': b_3d\n",
    "        # })\n",
    "        \n",
    "        # Save netcdf\n",
    "        for (data, variable_name) in zip(\n",
    "            [a_3d, b_3d, growth_rates_3d, weight_3d, weight_max],\n",
    "            ['a_3d', 'b_3d', 'growth_rates_3d', 'weight_3d', 'weight_max'],\n",
    "        ):\n",
    "            save2netcdf(\n",
    "                data=data, \n",
    "                var_name=variable_name, \n",
    "                directory=f'{out_dir}/init_initial_year_transient', \n",
    "                year=year, \n",
    "                age=age, \n",
    "                dimension_labels=default_dim_labels if i < 4 else  ('latitude', 'longitude')\n",
    "            )\n",
    "        age += 1\n",
    "            \n",
    "    initial_year = initial_year + 1\n",
    "    last_year = initial_year + generation "
   ]
  },
  {
   "cell_type": "code",
   "execution_count": 25,
   "metadata": {},
   "outputs": [],
   "source": [
    "datasets_weight_3d_max_age_0: dict = {}\n",
    "for year in range(2000,2003):\n",
    "    for age in range(2):\n",
    "        try: datasets_weight_3d_max_age_0[f'{year}-{age}'] = xr.open_dataset(\n",
    "                f'{out_dir}/init_initial_year_transient_{year}_weight_3d_age-{age}.nc'\n",
    "        )\n",
    "        except FileNotFoundError: pass"
   ]
  },
  {
   "cell_type": "code",
   "execution_count": 29,
   "metadata": {},
   "outputs": [
    {
     "name": "stdout",
     "output_type": "stream",
     "text": [
      "2000-0\n",
      "2001-0\n",
      "2001-1\n",
      "2002-1\n"
     ]
    }
   ],
   "source": [
    "for year_age, dataset in datasets_weight_3d_max_age_0.items():\n",
    "    print(year_age)\n",
    "    # do something with \"dataset\" "
   ]
  }
 ],
 "metadata": {
  "interpreter": {
   "hash": "70b38d7a306a849643e446cd70466270a13445e5987dfa1344ef2b127438fa4d"
  },
  "kernelspec": {
   "display_name": "Python 3.7.3 64-bit",
   "language": "python",
   "name": "python3"
  },
  "language_info": {
   "codemirror_mode": {
    "name": "ipython",
    "version": 3
   },
   "file_extension": ".py",
   "mimetype": "text/x-python",
   "name": "python",
   "nbconvert_exporter": "python",
   "pygments_lexer": "ipython3",
   "version": "3.9.7"
  },
  "orig_nbformat": 4
 },
 "nbformat": 4,
 "nbformat_minor": 2
}
